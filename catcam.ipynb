{
 "cells": [
  {
   "cell_type": "markdown",
   "source": [
    "# 코드 가져오기"
   ],
   "metadata": {
    "collapsed": false
   }
  },
  {
   "cell_type": "code",
   "execution_count": null,
   "outputs": [],
   "source": [
    "!pip install gradio\n",
    "!git clone https://github.com/tiktakdad/cat_detection.git"
   ],
   "metadata": {
    "collapsed": false,
    "pycharm": {
     "name": "#%%\n"
    }
   }
  },
  {
   "cell_type": "markdown",
   "source": [
    "# 실행하기"
   ],
   "metadata": {
    "collapsed": false
   }
  },
  {
   "cell_type": "code",
   "execution_count": null,
   "outputs": [],
   "source": [
    "import gradio as gr\n",
    "import torch\n",
    "import cv2\n",
    "\n",
    "# Images\n",
    "torch.hub.download_url_to_file('https://github.com/ultralytics/yolov5/raw/master/data/images/zidane.jpg', 'zidane.jpg')\n",
    "torch.hub.download_url_to_file('https://github.com/ultralytics/yolov5/raw/master/data/images/bus.jpg', 'bus.jpg')\n",
    "\n",
    "# Model\n",
    "model = torch.hub.load('ultralytics/yolov5', 'yolov5s')  # force_reload=True to update\n",
    "\n",
    "\n",
    "def yolo(fn):\n",
    "    print('start')\n",
    "    # 'C:\\\\Users\\\\karao\\\\AppData\\\\Local\\\\Temp\\\\ayvz4oru.mp4'\n",
    "    capture = cv2.VideoCapture(fn)\n",
    "    if not capture.isOpened():\n",
    "        print('failed capture.isOpened()')\n",
    "        exit(-1)\n",
    "\n",
    "    while True:  # while true, read the camera\n",
    "        ret, frame = capture.read()\n",
    "        if not ret:\n",
    "            break\n",
    "        results = model(frame)  # inference\n",
    "        results.render()  # updates results.imgs with boxes and labels\n",
    "\n",
    "\n",
    "    return fn\n",
    "\n",
    "inputs = gr.inputs.Video(type='mp4', label=\"Original Image\")\n",
    "outputs = gr.outputs.Video(label=\"Output Image\")\n",
    "\n",
    "title = \"YOLOv5\"\n",
    "description = \"YOLOv5 demo for object detection. Upload an image or click an example image to use.\"\n",
    "article = \"<p style='text-align: center'>YOLOv5 is a family of compound-scaled object detection models trained on the COCO dataset, and includes \" \\\n",
    "          \"simple functionality for Test Time Augmentation (TTA), model ensembling, hyperparameter evolution, \" \\\n",
    "          \"and export to ONNX, CoreML and TFLite. <a href='https://github.com/ultralytics/yolov5'>Source code</a> |\" \\\n",
    "          \"<a href='https://apps.apple.com/app/id1452689527'>iOS App</a> | <a href='https://pytorch.org/hub/ultralytics_yolov5'>PyTorch Hub</a></p>\"\n",
    "\n",
    "examples = [['zidane.jpg'], ['bus.jpg']]\n",
    "gr.Interface(yolo, inputs, outputs, title=title, description=description, article=article, examples=examples, analytics_enabled=False).launch(\n",
    "    debug=True)\n",
    "\n"
   ],
   "metadata": {
    "collapsed": false,
    "pycharm": {
     "name": "#%%\n"
    }
   }
  }
 ],
 "metadata": {
  "kernelspec": {
   "display_name": "Python 3",
   "language": "python",
   "name": "python3"
  },
  "language_info": {
   "codemirror_mode": {
    "name": "ipython",
    "version": 2
   },
   "file_extension": ".py",
   "mimetype": "text/x-python",
   "name": "python",
   "nbconvert_exporter": "python",
   "pygments_lexer": "ipython2",
   "version": "2.7.6"
  }
 },
 "nbformat": 4,
 "nbformat_minor": 0
}